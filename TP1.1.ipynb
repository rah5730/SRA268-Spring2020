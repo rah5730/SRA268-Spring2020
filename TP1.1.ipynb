{
  "nbformat": 4,
  "nbformat_minor": 0,
  "metadata": {
    "colab": {
      "name": "TP1",
      "provenance": [],
      "include_colab_link": true
    },
    "kernelspec": {
      "name": "python3",
      "display_name": "Python 3"
    }
  },
  "cells": [
    {
      "cell_type": "markdown",
      "metadata": {
        "id": "view-in-github",
        "colab_type": "text"
      },
      "source": [
        "<a href=\"https://colab.research.google.com/github/rah5730/SRA268-Spring2020/blob/master/TP1.1.ipynb\" target=\"_parent\"><img src=\"https://colab.research.google.com/assets/colab-badge.svg\" alt=\"Open In Colab\"/></a>"
      ]
    },
    {
      "cell_type": "markdown",
      "metadata": {
        "id": "a85SN0uWLYTu",
        "colab_type": "text"
      },
      "source": [
        "###Team Project 1: The Good, The Bad, and The Ugly\n",
        "By: Neil Engebreth, Charles Rome, Ross Harps, and Kevin Fatzinger\n",
        "\n",
        "\n"
      ]
    },
    {
      "cell_type": "markdown",
      "metadata": {
        "id": "P7fAeE27LsOq",
        "colab_type": "text"
      },
      "source": [
        "![Sheet 1](https://drive.google.com/uc?id=1oA8z6rlOuHCcoPXhgSP-iN9MgbCte0ia)"
      ]
    },
    {
      "cell_type": "markdown",
      "metadata": {
        "id": "enMbyqJIDJrK",
        "colab_type": "text"
      },
      "source": [
        "This Project is showing the June Total precipitation from 2000-2019. The following graph below shows how the totals have fluctuated between the various years. From at the high being 7.77 and the low being 1.8 inches per month. Throughout the years you can see the various changes in the graph. The purpose of the project is to show the various levels of precipitation in the month of June. This project can be used to compare against other months if so chosen to be. Our project goal was to provide good color and shape to the graphs. Making this graph easy to read and understand."
      ]
    },
    {
      "cell_type": "markdown",
      "metadata": {
        "id": "bAz77-LaWUcu",
        "colab_type": "text"
      },
      "source": [
        "![good](https://drive.google.com/uc?id=1jHdu76Va2uHc7WvY8W6jNfjX_Ay6ZLpp)"
      ]
    },
    {
      "cell_type": "markdown",
      "metadata": {
        "id": "rmZPvf1MFaMB",
        "colab_type": "text"
      },
      "source": [
        "For the “Good” perspective, we chose the visual retinal encodings that highlighted color and shape. For this bar graph, we wanted to highlight our quantitative data. We put attention on the lower than average precipitation in june by using orange, and the higher precipitation in June by using blue. The rest of the years were given a neutral tone to make them less appealing, and make the blues and orange pop out even more. The year 2002 had by far the highest precipitation in June, so we increased the saturation of the blue to represent this difference.  A key was placed in the top right corner so that the reader can interpret the data with a quick glance before reading the graph. Also, we chose to use neutral, inoffensive colors for the data labels on the X and Y axis so that the graph colors would stand out, and represent the data. In regards to shape, we decided a bar graph would allow each year to stand out on its own; emphasizing the erratic nature of precipitation in the month of June during the 2000-2019 time frame. The overall white space between the bars, font size and graph color are well designed and neatly organized to make comparison of data easier. \n",
        "\n"
      ]
    },
    {
      "cell_type": "markdown",
      "metadata": {
        "id": "cyvDQuU6WqMa",
        "colab_type": "text"
      },
      "source": [
        "![bad](https://drive.google.com/uc?id=1qZXYP4vMM_trQv8vA5sDLoA9p3zAtO7B)"
      ]
    },
    {
      "cell_type": "markdown",
      "metadata": {
        "id": "4q1lrNGLXKvr",
        "colab_type": "text"
      },
      "source": [
        "For the “Bad” perspective on this lab assignment, we have implemented many encodings that created issues occurring with this graph. They make it difficult for the reader to reach logical conclusions on the amounts of precipitation throughout the years in State College.  We decided to change the shape, as well as change the graph from continuous to a discrete graph. Making these changes creates a lot more white space areas. This was our goal to demonstrate how the white space is very bad for a graph and obscures the data. The black shapes on the legend are distracting, overwhelm the smaller blue shapes that correspond to them on the graph. Also, due to the shapes being small and difficult to see, it is very hard to know where exactly the data is lining up with in regards to the x and y axis. Overall this graph quickly loses the reader’s attention, and leaves them frustrated and confused.\n"
      ]
    },
    {
      "cell_type": "markdown",
      "metadata": {
        "id": "tJ79yHCzWx9T",
        "colab_type": "text"
      },
      "source": [
        "![ugly](https://drive.google.com/uc?id=1Z8uo9FYHVA_HhnwJZom0Ys-s-KJO9WdJ)"
      ]
    },
    {
      "cell_type": "markdown",
      "metadata": {
        "id": "Sw5UU2yjYmIb",
        "colab_type": "text"
      },
      "source": [
        "\n",
        "The “Ugly” perspective on this lab assignment was to make the viewer feel awkward about looking at this graph and trying to interpret what we had done. The two retinal variables we used were color and the area of the circles. With these changes the information is correct, but there are different colors throughout the graph and it is very confusing and ugly. The area shapes that make up the whole entire graph are hard to understand if a viewer wanted to look and make predictions off of this graph. It is very ugly by the sizes of the shapes and nothing is in order. \n"
      ]
    },
    {
      "cell_type": "markdown",
      "metadata": {
        "id": "5gSRprGyGfOu",
        "colab_type": "text"
      },
      "source": [
        "In conclusion, we feel very confident in our work how we have shown clear evidence of the graphs changing from the Good, Bad, and the Ugly. These graphs all share the same information yet they have different graphical representations. These are very good examples of the different representations of graphs shown in this lesson. "
      ]
    },
    {
      "cell_type": "markdown",
      "metadata": {
        "id": "6w2gJXuj6PZy",
        "colab_type": "text"
      },
      "source": [
        "Source: National Oceanic Association Admistration (NOAA)"
      ]
    }
  ]
}