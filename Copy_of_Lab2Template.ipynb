{
  "nbformat": 4,
  "nbformat_minor": 0,
  "metadata": {
    "colab": {
      "name": "Copy of Lab2Template.ipynb",
      "provenance": [],
      "include_colab_link": true
    },
    "kernelspec": {
      "name": "python3",
      "display_name": "Python 3"
    }
  },
  "cells": [
    {
      "cell_type": "markdown",
      "metadata": {
        "id": "view-in-github",
        "colab_type": "text"
      },
      "source": [
        "<a href=\"https://colab.research.google.com/github/rah5730/SRA268-Spring2020/blob/master/Copy_of_Lab2Template.ipynb\" target=\"_parent\"><img src=\"https://colab.research.google.com/assets/colab-badge.svg\" alt=\"Open In Colab\"/></a>"
      ]
    },
    {
      "cell_type": "markdown",
      "metadata": {
        "id": "6sOc4Uyr4U-Z",
        "colab_type": "text"
      },
      "source": [
        "## Graph Types"
      ]
    },
    {
      "cell_type": "markdown",
      "metadata": {
        "id": "0zZdVLAd5CYr",
        "colab_type": "text"
      },
      "source": [
        "Creator\n",
        "* Ross Harps\n"
      ]
    },
    {
      "cell_type": "markdown",
      "metadata": {
        "id": "g-r6Clq45Hn4",
        "colab_type": "text"
      },
      "source": [
        "### Deviation\n"
      ]
    },
    {
      "cell_type": "markdown",
      "metadata": {
        "id": "2gorxo6E7A0t",
        "colab_type": "text"
      },
      "source": [
        "![alt text](https://drive.google.com/uc?id=1N9Z85l1Ut0A2s9M0noXYprae_4cIL4HN)"
      ]
    },
    {
      "cell_type": "markdown",
      "metadata": {
        "id": "w6bZ_NEi7E3w",
        "colab_type": "text"
      },
      "source": [
        "#### What is this telling us?"
      ]
    },
    {
      "cell_type": "markdown",
      "metadata": {
        "id": "95L-spaC7QHF",
        "colab_type": "text"
      },
      "source": [
        "This graph show us the total number points of losing teams each year relative to the average. Each bar on the graph shows the total for one year. It is easily distignuishable which years scored above, and which scored below the average, as the y-axis is centered around the average. From this graph we learn that the first years of data we have, 1985 and 1986 were the highest scoring years for losing teams, by a signigficant margin, and 1999 recorded the lowest scoring year for losing teams by far. With the exception of a number of relatively low scoring number of years in the 1990s, there does not seem to be any overarching trends within the data."
      ]
    },
    {
      "cell_type": "markdown",
      "metadata": {
        "id": "YgXyXjmz7cDP",
        "colab_type": "text"
      },
      "source": [
        "### Correlation\n"
      ]
    },
    {
      "cell_type": "markdown",
      "metadata": {
        "id": "SGx15rZq7hvt",
        "colab_type": "text"
      },
      "source": [
        "![alt text](https://drive.google.com/uc?id=1z75ZLiACt2QA206RL9g64gCSOfc90mW9)"
      ]
    },
    {
      "cell_type": "markdown",
      "metadata": {
        "id": "dljjONNi7jmj",
        "colab_type": "text"
      },
      "source": [
        "#### What is this telling us?"
      ]
    },
    {
      "cell_type": "markdown",
      "metadata": {
        "id": "PwZEZrFB7laG",
        "colab_type": "text"
      },
      "source": [
        "This graph compares the correlation between the total number of points scored by the winning team(s) and the losing team(s) on game days. Thedata seems to suggest a very strong correlation between the two metrics, implying that overall games are fairly competitive, and that although the winning teams score more, the losing team tends to score more when the winning team scores more. Though, as expected, values are significantly higher on the x-axis, which records Winning Points, than on the y-axis, which records Losing Points."
      ]
    },
    {
      "cell_type": "markdown",
      "metadata": {
        "id": "MqUdI-uL7r2s",
        "colab_type": "text"
      },
      "source": [
        "### Ranking\n"
      ]
    },
    {
      "cell_type": "markdown",
      "metadata": {
        "id": "AvlxCOVt7x9F",
        "colab_type": "text"
      },
      "source": [
        "![alt text](https://drive.google.com/uc?id=1QeGCQ4TlZltGmZRmtyFTNROMJsLcjj5A)"
      ]
    },
    {
      "cell_type": "markdown",
      "metadata": {
        "id": "lCAYtfza7yTq",
        "colab_type": "text"
      },
      "source": [
        "#### What is this telling us?"
      ]
    },
    {
      "cell_type": "markdown",
      "metadata": {
        "id": "MyuciD277ygU",
        "colab_type": "text"
      },
      "source": [
        "This graph shows us the lowest to highest scoring years for the winning teams per year. From this graph we can see the ten highest years show significantly higher increases from one to the other. We can also see the top five years are 1987-1989 and 2016-2017. These years being consecutive to one another suggests that the tournament was full of unusually high scoring teams duting those years. We can also see that 1985 was the lowest scoring year for winning teams, by a significant margin."
      ]
    },
    {
      "cell_type": "markdown",
      "metadata": {
        "id": "dGDGl8-G7y8Y",
        "colab_type": "text"
      },
      "source": [
        "### Distribution\n"
      ]
    },
    {
      "cell_type": "markdown",
      "metadata": {
        "id": "FB0uV-jy76p9",
        "colab_type": "text"
      },
      "source": [
        "![alt text](https://drive.google.com/uc?id=1Nl6EzZU25bnbT1K5DtMXljOj5hRbbiyB)"
      ]
    },
    {
      "cell_type": "markdown",
      "metadata": {
        "id": "_6SOzhrQ76zH",
        "colab_type": "text"
      },
      "source": [
        "#### What is this telling us?"
      ]
    },
    {
      "cell_type": "markdown",
      "metadata": {
        "id": "HBWqsS_g767h",
        "colab_type": "text"
      },
      "source": [
        "This graph shows the number of points scored by losing teams according to the genus of their mascots. We can clearly see that the homo (human) genus is the highest scoring by a large margin. This suggests a high number of teams with humans mascots that are high scoring. This is followed by canis (dog/wolf), panthera (large cats including tiger, lion, jaguar and leopard), felis (small cats), and ursus (bear). This suggests these mascots are also popular or represent high scoring teams."
      ]
    },
    {
      "cell_type": "markdown",
      "metadata": {
        "id": "wQsDThk677Fy",
        "colab_type": "text"
      },
      "source": [
        "### Change over Time\n"
      ]
    },
    {
      "cell_type": "markdown",
      "metadata": {
        "id": "Z1j_YLOA7_OK",
        "colab_type": "text"
      },
      "source": [
        "![alt text](https://drive.google.com/uc?id=1HxgyLnPU3SGuP1pF-NY2lmBmP0n5_WkP)"
      ]
    },
    {
      "cell_type": "markdown",
      "metadata": {
        "id": "mpfsmmgi7_Vj",
        "colab_type": "text"
      },
      "source": [
        "#### What is this telling us?"
      ]
    },
    {
      "cell_type": "markdown",
      "metadata": {
        "id": "rYLXoMMO7_di",
        "colab_type": "text"
      },
      "source": [
        "This graph shows the number of records per season according to the kingdom of the mascots. The two kingdoms, animalia and plantae, seem to be relatively similar to one another at first glance, though on closer inspection animalia seems to be above plantae more frequently. We can see that on years that one kingdom does well, the other tends to do worse. This suggests that taking records is, to an extent a zero sum game, and that only so many records can be taken per year."
      ]
    },
    {
      "cell_type": "markdown",
      "metadata": {
        "id": "lFwiHoE-7_jZ",
        "colab_type": "text"
      },
      "source": [
        "### Magnitude\n"
      ]
    },
    {
      "cell_type": "markdown",
      "metadata": {
        "id": "ICQFnXj78EbF",
        "colab_type": "text"
      },
      "source": [
        "![alt text](https://drive.google.com/uc?id=1IDHOMQYbZOOc74OihWHOBlRs2i5O9Li8)"
      ]
    },
    {
      "cell_type": "markdown",
      "metadata": {
        "id": "QGG7XYG88Eii",
        "colab_type": "text"
      },
      "source": [
        "#### What is this telling us?"
      ]
    },
    {
      "cell_type": "markdown",
      "metadata": {
        "id": "VS7uGa0l8Eos",
        "colab_type": "text"
      },
      "source": [
        "This graph shows the number of winning points according to the top 15 mascot's genuses. The significantly highest scoring genus is homo. Ironically the second highest scoring genus was null. After that, however there is a severe drop to the next genus. This suggests that the most overwhelmingly common genus of mascot is overwhelmingly homo, and that they boast a good deal of success. This is then followed by canis, panthera, ursus, and felis. beyond this, there is a notable drop off, suggesting that other genuses are significantly less popular."
      ]
    },
    {
      "cell_type": "markdown",
      "metadata": {
        "id": "bEKFxP8R8Evk",
        "colab_type": "text"
      },
      "source": [
        "### Part-to-Whole\n"
      ]
    },
    {
      "cell_type": "markdown",
      "metadata": {
        "id": "WFHlcYKV8E35",
        "colab_type": "text"
      },
      "source": [
        "![alt text](https://drive.google.com/uc?id=1Oa9o85xd8_ScB_7CYGitXGwPOq7Xl7Uq)"
      ]
    },
    {
      "cell_type": "markdown",
      "metadata": {
        "id": "PNSd3wlp8UZH",
        "colab_type": "text"
      },
      "source": [
        "#### What is this telling us?"
      ]
    },
    {
      "cell_type": "markdown",
      "metadata": {
        "id": "y9tb_QRA8aqt",
        "colab_type": "text"
      },
      "source": [
        "This graph shows how all the points scored by winning teams are divided up by teams. This graph shows that the wildcats scored significantly more than the other teams, suggesting they have historically won a large number of games, and therefore have had more games that count towards their total of winning points. The rest of the top five: tar heels, blue devils, jayhawks, and tigers also boast a significantly higher amount of points than all the teams below them. The huskies and bulldogs make the next step of teams before another drop."
      ]
    }
  ]
}