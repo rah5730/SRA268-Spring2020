{
  "nbformat": 4,
  "nbformat_minor": 0,
  "metadata": {
    "colab": {
      "name": "Untitled0.ipynb",
      "provenance": [],
      "collapsed_sections": [],
      "toc_visible": true,
      "authorship_tag": "ABX9TyPDOPEsUT9EJkS6wvpq70je",
      "include_colab_link": true
    },
    "kernelspec": {
      "name": "python3",
      "display_name": "Python 3"
    }
  },
  "cells": [
    {
      "cell_type": "markdown",
      "metadata": {
        "id": "view-in-github",
        "colab_type": "text"
      },
      "source": [
        "<a href=\"https://colab.research.google.com/github/rah5730/SRA268-Spring2020/blob/master/Untitled0.ipynb\" target=\"_parent\"><img src=\"https://colab.research.google.com/assets/colab-badge.svg\" alt=\"Open In Colab\"/></a>"
      ]
    },
    {
      "cell_type": "markdown",
      "metadata": {
        "id": "H6Hyl8RkW8He",
        "colab_type": "text"
      },
      "source": [
        "# Snow in Inches per Year #\n",
        "\n",
        "This graphs the number of inches in snow according to year. The Years are overlayed on the same graph in order to show a direct comparison of the years, throughout each month. The different years are denoted by colors to make it clear which year is which. The time is divided by month to provide nuance in the times of year without overwhelming the viewer with every day of the year."
      ]
    },
    {
      "cell_type": "markdown",
      "metadata": {
        "id": "I8imZ04z1zwZ",
        "colab_type": "text"
      },
      "source": [
        "![graph](https://drive.google.com/uc?id=1TBQ8dSf4RwOkzDauXEHpAR_zLOxx2RsJ)"
      ]
    },
    {
      "cell_type": "markdown",
      "metadata": {
        "id": "GGbfqBzk2_jI",
        "colab_type": "text"
      },
      "source": [
        "# Conclusions #\n",
        "There is a general trend that snow is more common in the beginning and end of the year, though it is more common in the beginning during January and February.\n",
        "During the middle of the year, from May to October, there was absolutely no snow whatsoever. The amount of snow that occurs in the months November and December do not show as solid trends because 2019 lacks data for those months."
      ]
    }
  ]
}