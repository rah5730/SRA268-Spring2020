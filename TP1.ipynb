{
  "nbformat": 4,
  "nbformat_minor": 0,
  "metadata": {
    "colab": {
      "name": "TP1",
      "provenance": [],
      "include_colab_link": true
    },
    "kernelspec": {
      "name": "python3",
      "display_name": "Python 3"
    }
  },
  "cells": [
    {
      "cell_type": "markdown",
      "metadata": {
        "id": "view-in-github",
        "colab_type": "text"
      },
      "source": [
        "<a href=\"https://colab.research.google.com/github/rah5730/SRA268-Spring2020/blob/master/TP1.ipynb\" target=\"_parent\"><img src=\"https://colab.research.google.com/assets/colab-badge.svg\" alt=\"Open In Colab\"/></a>"
      ]
    },
    {
      "cell_type": "markdown",
      "metadata": {
        "id": "a85SN0uWLYTu",
        "colab_type": "text"
      },
      "source": [
        "###Team Project 1: The Good,The Bad, and The Ugly\n",
        "By: Neil Engebreth, Charles Rome, Ross Harps, and Kevin Fatzinger\n",
        "\n",
        "\n"
      ]
    },
    {
      "cell_type": "markdown",
      "metadata": {
        "id": "P7fAeE27LsOq",
        "colab_type": "text"
      },
      "source": [
        "![Sheet 1](https://drive.google.com/uc?id=16hyT21KXQ7T4bkhBtvZZPDUUXPYnd-f1)"
      ]
    },
    {
      "cell_type": "markdown",
      "metadata": {
        "id": "enMbyqJIDJrK",
        "colab_type": "text"
      },
      "source": [
        "This Project is showing the June Total precipitation from 2000-2019. The following graph below shows how the totals have fluctuated between the various years. From at the high being 7.77 and the low being 1.8 inches per month. Throughout the years you can see the various changes in the graph. The purpose of the project is to show the various levels of precipitation in the month of June. This project can be used to compare against other months if so chosen to be. Our project goal was to provide good color and shape to the graphs. Making this graph easy to read and understand."
      ]
    },
    {
      "cell_type": "markdown",
      "metadata": {
        "id": "bAz77-LaWUcu",
        "colab_type": "text"
      },
      "source": [
        "![good](https://drive.google.com/uc?id=1A2G5py_9RsNuChCqNO5cT7vfYq7H6VC9)"
      ]
    },
    {
      "cell_type": "markdown",
      "metadata": {
        "id": "rmZPvf1MFaMB",
        "colab_type": "text"
      },
      "source": [
        "For the “Good” perspective we chose to make certain variables like shape and color. For this certain graph as shown on the side, we made the colors blue and making the darker the more rain, and lighter less rain. This helps on the graph show the various shades of blue and help make the graph easier to understand with the key at the top right corner. This graph is neatly organized and well and very legible compared to the others below. This graph is labeled correctly on the X and Y axis. This graph is overall well designed and neatly organized. "
      ]
    },
    {
      "cell_type": "markdown",
      "metadata": {
        "id": "cyvDQuU6WqMa",
        "colab_type": "text"
      },
      "source": [
        "![bad](https://drive.google.com/uc?id=1N0DBY4jrogpMhl0dq7uD-7oV16QKGsNM)"
      ]
    },
    {
      "cell_type": "markdown",
      "metadata": {
        "id": "4q1lrNGLXKvr",
        "colab_type": "text"
      },
      "source": [
        "For the “Bad” perspective on this lab assignment, we have implemented many issues occurring with this graph. Our two retinal variables we have decided to change is its shape and also changed it from a continuous to a discrete graph. With making these changes, it shows how the graph has a lot more white spaced out areas which was our goal to show and represent how it is very bad for a graph to be like this. Also, due to the shapes being small and difficult to see, it is very hard to see what numbers on the graph they are lining up against which make it very difficult to a person who were to read this graph. "
      ]
    },
    {
      "cell_type": "markdown",
      "metadata": {
        "id": "tJ79yHCzWx9T",
        "colab_type": "text"
      },
      "source": [
        "![ugly](https://drive.google.com/uc?id=1Z8uo9FYHVA_HhnwJZom0Ys-s-KJO9WdJ)"
      ]
    },
    {
      "cell_type": "markdown",
      "metadata": {
        "id": "Sw5UU2yjYmIb",
        "colab_type": "text"
      },
      "source": [
        "\n",
        "The “Ugly” perspective on this lab assignment was to make the viewer feel awkward about looking at this graph and trying to interpret what we had done. The two retinal variables we used were color and the area of the circles. With these changes the information is correct, but there are different colors throughout the graph and it is very confusing and ugly. The area shapes that make up the whole entire graph are hard to understand if a viewer wanted to look and make predictions off of this graph. It is very ugly by the sizes of the shapes and nothing is in order. \n"
      ]
    },
    {
      "cell_type": "markdown",
      "metadata": {
        "id": "5gSRprGyGfOu",
        "colab_type": "text"
      },
      "source": [
        "In conclusion, we feel very confident in our work how we have shown clear evidence of the graphs changing from the Good, Bad, and the Ugly. These graphs all share the same information yet they have different graphical representations. These are very good examples of the different representations of graphs shown in this lesson. "
      ]
    }
  ]
}