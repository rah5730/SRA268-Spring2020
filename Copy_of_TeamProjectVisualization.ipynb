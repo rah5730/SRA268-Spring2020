{
  "nbformat": 4,
  "nbformat_minor": 0,
  "metadata": {
    "colab": {
      "name": "Copy of TeamProjectVisualization.ipynb",
      "provenance": [],
      "collapsed_sections": [],
      "include_colab_link": true
    },
    "kernelspec": {
      "name": "python3",
      "display_name": "Python 3"
    }
  },
  "cells": [
    {
      "cell_type": "markdown",
      "metadata": {
        "id": "view-in-github",
        "colab_type": "text"
      },
      "source": [
        "<a href=\"https://colab.research.google.com/github/rah5730/SRA268-Spring2020/blob/master/Copy_of_TeamProjectVisualization.ipynb\" target=\"_parent\"><img src=\"https://colab.research.google.com/assets/colab-badge.svg\" alt=\"Open In Colab\"/></a>"
      ]
    },
    {
      "cell_type": "markdown",
      "metadata": {
        "id": "Kw5PZBtl0Ob6",
        "colab_type": "text"
      },
      "source": [
        "# COVID-19 Air Pollution"
      ]
    },
    {
      "cell_type": "markdown",
      "metadata": {
        "id": "iXWAmSVB0Rno",
        "colab_type": "text"
      },
      "source": [
        "Contributors:\n",
        "\n",
        "\n",
        "*   Charles Rome\n",
        "*   Kevin Fatzinger\n",
        "*   Ross Harps\n",
        "*   Neil Engebreth \n",
        "\n",
        "\n"
      ]
    },
    {
      "cell_type": "markdown",
      "metadata": {
        "id": "WpaW-i5l0ZHn",
        "colab_type": "text"
      },
      "source": [
        "## Background"
      ]
    },
    {
      "cell_type": "markdown",
      "metadata": {
        "id": "E4VKsOvP0eev",
        "colab_type": "text"
      },
      "source": [
        "Given the current COVID -19 pandemic, we decided to investigate other dimensions that could play a role in the number of cases of COVID -19 besides the virus itself. For instance, if air quality is poor, does that put people more at risk for health issues such as COVID-19? While searching for information, we learned that poor air quality could be a factor that leads to increased cases of COVID - 19. Another important factor we learned is that not only is the air quality poor in larger cities, but it has also been improving as “stay at home or shelter and place orders” went into effect. Certainly with less local, national, and international travel, air pollution should be lower around the world. Taking this one step further we decided to localize the data to see just how poor the air quality has been in larger cities, like NYC, where the pandemic is considered to be an epicenter in the United States. We also included the Philadelphia area as well since this is also a larger city, and a city we are more familiar with.   Our research showed that for weeks, public health officials that were concerned about air pollution compared a statistic between “dirty air” and serious illness or death caused by the COVID-19. Given evidence that air pollution does play a role in increased cases of COVID-19, we decided to create our own data model that shows evidence of higher air pollution levels in the Philadelphia, Pennsylvania area and New York City as well as their high population. \n",
        "\n"
      ]
    },
    {
      "cell_type": "markdown",
      "metadata": {
        "id": "7d8vfcGufV0_",
        "colab_type": "text"
      },
      "source": [
        "### Goal"
      ]
    },
    {
      "cell_type": "markdown",
      "metadata": {
        "id": "e1jKSGTjfY2H",
        "colab_type": "text"
      },
      "source": [
        "The goal of our project is to show that high levels of air pollution in metropolitan areas with high populations, which could be another variable that explains higher COVID-19 cases in large cities such as New York City and the Philadelphia metropolitan area.\n"
      ]
    },
    {
      "cell_type": "markdown",
      "metadata": {
        "id": "GOxy_TvCfi54",
        "colab_type": "text"
      },
      "source": [
        "### Assumptions"
      ]
    },
    {
      "cell_type": "markdown",
      "metadata": {
        "id": "cw1v_1MMfnAR",
        "colab_type": "text"
      },
      "source": [
        "Insert 10 assumptions for your data model:\n",
        "- Other dimensions could be causing more COVID-19 cases in some cities\n",
        "- Increased population increases pollution\n",
        "- issues that positively impact asthma and other respiratory illnesses could increase  COVID-19 cases as well\n",
        "- Better air quality less respiratory issues - less Covid 19 cases and deaths\n",
        "- This info is important for the future because high pollution areas might need more medical equipment to stockpile in future\n",
        "- Better air quality from stay at home orders could decrease cases\n",
        "- This information is important for future studies because data on air pollution past and present could spark government consideration to fund more clean air acts.\n",
        "- Other states could be better than others with air pollution.\n",
        "- Air quality outside is better for human beings to breathe in.\n",
        "-Decrease in population causes a decrease in pollution.\n",
        "\n",
        "\n",
        "\n",
        "\n",
        "\n"
      ]
    },
    {
      "cell_type": "markdown",
      "metadata": {
        "id": "jKGILpu7gWr6",
        "colab_type": "text"
      },
      "source": [
        "### Data Sources"
      ]
    },
    {
      "cell_type": "markdown",
      "metadata": {
        "id": "uwCao7AtgbNn",
        "colab_type": "text"
      },
      "source": [
        "[EPA Air Quality Data](https://www.epa.gov/outdoor-air-quality-data/download-daily-data): This government source provides extremely accurate information and is well trusted in the field.\n",
        "\n",
        "[US Census Bureau Population Statistics](https://www.census.gov/data/tables/time-series/demo/popest/2010s-total-metro-and-micro-statistical-areas.html): This is a government resource that is well respected and trusted for population statistics. \n",
        "\n"
      ]
    },
    {
      "cell_type": "markdown",
      "metadata": {
        "id": "kDgSdoQUgg2Z",
        "colab_type": "text"
      },
      "source": [
        "#### Sources"
      ]
    },
    {
      "cell_type": "markdown",
      "metadata": {
        "id": "dFzYIi0Agi2_",
        "colab_type": "text"
      },
      "source": [
        "The Washington Post - \n",
        "https://www.washingtonpost.com/weather/2020/04/09/air-quality-improving-coronavirus/ \n",
        "\n",
        "The New York Times - \n",
        "https://www.nytimes.com/2020/04/07/climate/air-pollution-coronavirus-covid.html \n",
        "\n"
      ]
    },
    {
      "cell_type": "markdown",
      "metadata": {
        "id": "qcFak2v7g3jt",
        "colab_type": "text"
      },
      "source": [
        "## Dashboard (5)"
      ]
    },
    {
      "cell_type": "markdown",
      "metadata": {
        "id": "5sFNoqNOSKh3",
        "colab_type": "text"
      },
      "source": [
        "![alt text](https://drive.google.com/uc?id=17rMuIjNUSmRmbhfoMRPmsCTsld1y7R9z)"
      ]
    },
    {
      "cell_type": "markdown",
      "metadata": {
        "id": "SvWfnlDjnos1",
        "colab_type": "text"
      },
      "source": [
        "## Conclusion"
      ]
    },
    {
      "cell_type": "markdown",
      "metadata": {
        "id": "rfWefr2gnxOG",
        "colab_type": "text"
      },
      "source": [
        "\n",
        "To wrap up a conclusion of our last team project model, this project helped our whole group understand the fundamentals of creating a case study using two different databases. Since the current COVID-19 pandemic has changed the way we currently live, we decided to research variables that could possibly be making the pandemic worse for certain areas of the country. After researching various avenues, we all finally agreed on learning more about air pollution to see if it could be a reason for larger cities having not only more cases, but also more serious cases of COVID-19. Sure enough, not only did we see high concentrations of pollution in areas that we chose like The NYC metropolitan area and the Philadelphia metropolitan area, but we also found that there was an interesting side piece of this as well. That being, that air pollution has been reduced. The stay at home ordinance and shelter and place has helped decrease pollution as people worldwide have very limited travel, and many factories have shut down. A source that we decided to use for measuring air pollution was a well trusted government source, the Environmental Protection Agency (EPA). Since the EPA did not have population data, we turned to the United States Census for another well trusted database. We figured that creating a model on this information would be very beneficial not only for our own benefit, but for others that may have been curious as well. Unfortunately, our data shows that pollution is a problem in these two metropolitan areas. However, there is a hopeful side of this situation; bringing attention to poor polution levels may lead to future clean air acts that just might help with decreasing cases in any future pandemics. We hope that this information can be shared with future SRA 268 students.  \n",
        "\n",
        "\n",
        "\n",
        "\n",
        "\n",
        "\n",
        "\n",
        "\n",
        "\n"
      ]
    }
  ]
}